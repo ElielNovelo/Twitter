{
 "cells": [
  {
   "cell_type": "code",
   "execution_count": 2,
   "metadata": {},
   "outputs": [],
   "source": [
    "#importacion de libreria\n",
    "import tweepy\n",
    "import configparser\n",
    "import pandas as pd"
   ]
  },
  {
   "cell_type": "code",
   "execution_count": 3,
   "metadata": {},
   "outputs": [
    {
     "name": "stdout",
     "output_type": "stream",
     "text": [
      "XmvlpiT5JnFg9zD0KA4wm4kcn\n"
     ]
    }
   ],
   "source": [
    "#read configs\n",
    "config = configparser.ConfigParser()\n",
    "config.read('config.ini')\n",
    "\n",
    "api_key = config['twitter']['api_key']\n",
    "api_key_secret = config['twitter']['api_key_secret']\n",
    "\n",
    "access_token = config['twitter']['access_token']\n",
    "access_token_secret = config['twitter']['access_token_secret']\n",
    "\n",
    "print(api_key)"
   ]
  },
  {
   "cell_type": "code",
   "execution_count": 7,
   "metadata": {},
   "outputs": [
    {
     "name": "stdout",
     "output_type": "stream",
     "text": [
      "               User                                              Tweet\n",
      "0       viaalvesacc  TW SUICÍDIO AUTOMUTILAÇÃO\\n \\n.\\n.\\n.\\n.\\n.\\n....\n",
      "1     tata_soaress1     RT @Dodiban_7: Vida do crime é suicídio lento💭\n",
      "2    luzaltruva2865  RT @luzaltruva2865: @GustavoBolivar Al PACTO D...\n",
      "3         IlGonzall  RT @paeguiguren: Matamala miente.\\nInternacion...\n",
      "4        RamosMait1  RT @AnaAlic18810883: #CarlaoPignatariPautePDL\\...\n",
      "5          mayakjkk  Maya não compreende Analise Combinatoria &amp;...\n",
      "6      GabiAranguiz  RT @INFORMADORCHILE: Columnista de The Wall St...\n",
      "7    cubitosmaggiii  RT @MisPutasPoesias: Sépanlo, mi único talento...\n",
      "8   eujuniorbotelho  @namodavi3 @bluntlism @thealexcycle Não estou ...\n",
      "9        Noticaribe  EVITAN SUICIDIO EN CHETUMAL: Hombre amenazaba ...\n",
      "10        alexallvs  @7kitsuni7 @canelexv eu queria poder comprar u...\n",
      "11      Emlopez2002  RT @fflorcontreras: Mi hermano Luis se suicido...\n",
      "12      Molina_jatp  RT @wzsolano: Não to suportando esse clima de ...\n",
      "13      Alba_Gomez4  RT @aino_rl: 024 el teléfono de prevención al ...\n",
      "14     KevinManjate  \"O Vendedor De Sonhos\" \\nFilme top... Muitas r...\n",
      "15          breatlu  RT @wzsolano: Não to suportando esse clima de ...\n",
      "16        _Anielska  RT @ma_segov: Belleza femenina, enfermedad y e...\n",
      "17        Luixxmatt  Tudo ao redor parece interessante mas minha me...\n",
      "18    Kibisbriofita  Carros\\nCarros\\nCarros\\nAniversário\\nSuicidio\\...\n",
      "19          nicnnie  RT @dobbylovey: yoshi ya no esta pelirrojo hoy...\n",
      "20        augen_ang  RT @MarcelGarcia_es: En la web de la Oficina d...\n",
      "21        malva_999  Puedo tener bajones fuertes y sentirme super m...\n",
      "22         wzsolano  Não to suportando esse clima de despedida, pen...\n",
      "23  perritollanero2  RT @ma_segov: Belleza femenina, enfermedad y e...\n",
      "24  Virgini09743445  RT @AnaAlic18810883: #CarlaoPignatariPautePDL\\...\n",
      "25   kareengoulartt  qualquer dia o suicídio vem, por que eu não te...\n",
      "26    CaPsi00845837  @PoliciaTelde ¿Por qué no se ahonda ni publici...\n",
      "27        katnthony  @sumnerblair ele sendo um CAVALO com a max só ...\n",
      "28     cattaolmos17  RT @morasanddez: Hablan de depresión, pero cua...\n",
      "29       teteusccp_  @Corinthians (  ) Uma vitória do Timão!\\n(  ) ...\n",
      "30      PedroChara2  RT @HelenaVillarRT: Casi todo lo que hay que e...\n",
      "31     ChaconJender  RT @emerald_gadel: Entonces matar bebes en el ...\n",
      "32   Cesaartorralbo  @marta_munz @lucsontw @moisonic1120 @luciaacst...\n",
      "33       saiIormooh  o menos ruim é WW, esse da viúva negra é tão r...\n",
      "34            vdms5  RT @VzlaDinamica: Pareciera q la del turbante ...\n",
      "35    Guido52857051  ÓÓÓTIMA !!\\nNo programa de sábado, na Globo Ne...\n",
      "36        hxrrykane  roni titular em libertadores automaticamente p...\n",
      "37          nedpogg  Venho anunciar o fim de minha carreira na inte...\n",
      "38           alv3x_  eu sei que suicidio é pecado, mas como eu quer...\n",
      "39       70_avelino  RT @HelenaVillarRT: Casi todo lo que hay que e...\n",
      "40     VerdaMongeta  RT @ma_segov: Belleza femenina, enfermedad y e...\n",
      "41       GriARebeca  RT @JMporKiraLopez: https://t.co/VaoKYKY621 fi...\n",
      "42         rafaabrl  @notsoweI welen não aguento mais suas cartas d...\n",
      "43      aroacastro_  RT @ma_segov: Belleza femenina, enfermedad y e...\n",
      "44  TheShortShorts1  RT @GabineteForte: Crímen Scientia; Tiziana Ca...\n",
      "45   MindlessMidas_                     suicídio adiado por causa dela\n",
      "46          Egnova1  RT @ma_segov: Belleza femenina, enfermedad y e...\n",
      "47   Soy_A_Negativo  @LaMiss_Michy1 @georgepelon83 @BRBPin @juanfer...\n",
      "48       luangoesss  @laryverissimo teu deus deve estar orgulhoso d...\n",
      "49    CommieGayGirl  Odeio linhas de suicidio odeio linhas de suici...\n"
     ]
    }
   ],
   "source": [
    "#authentication\n",
    "auth = tweepy.OAuthHandler(api_key, api_key_secret)\n",
    "auth.set_access_token(access_token, access_token_secret)\n",
    "\n",
    "api = tweepy.API(auth)\n",
    "\n",
    "public_tweets = api.home_timeline()\n",
    "\n",
    "# print(public_tweets[0].text)\n",
    "# for tweet in public_tweets:\n",
    "#     print(tweet.text)\n",
    "\n",
    "columns = ['User', 'Tweet']\n",
    "data = []\n",
    "# for tweet in public_tweets:\n",
    "#     data.append([tweet.created_at, tweet.user.screen_name, tweet.text])\n",
    "\n",
    "# df = pd.DataFrame(data, columns=columns)\n",
    "\n",
    "# df.to_csv('tweets.csv')\n",
    "\n",
    "\n",
    "#search tweets for keyword\n",
    "keywords = 'suicidio'\n",
    "limit = 50\n",
    "\n",
    "tweets = tweepy.Cursor(api.search_tweets, q=keywords, count=100, tweet_mode='extended').items(limit)\n",
    "\n",
    "for tweet in tweets:\n",
    "    data.append([tweet.user.screen_name, tweet.full_text])\n",
    "\n",
    "df = pd.DataFrame(data, columns=columns)\n",
    "df.to_csv('tweets.csv')\n",
    "print(df)\n",
    "\n"
   ]
  }
 ],
 "metadata": {
  "interpreter": {
   "hash": "acd61da02578f706ad429f0e566c43120a8f0c66f817192dc5c4aa183e24bd1a"
  },
  "kernelspec": {
   "display_name": "Python 3.10.4 64-bit (windows store)",
   "language": "python",
   "name": "python3"
  },
  "language_info": {
   "codemirror_mode": {
    "name": "ipython",
    "version": 3
   },
   "file_extension": ".py",
   "mimetype": "text/x-python",
   "name": "python",
   "nbconvert_exporter": "python",
   "pygments_lexer": "ipython3",
   "version": "3.10.4"
  },
  "orig_nbformat": 4
 },
 "nbformat": 4,
 "nbformat_minor": 2
}
